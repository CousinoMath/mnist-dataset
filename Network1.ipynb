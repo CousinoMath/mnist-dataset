{
 "cells": [
  {
   "cell_type": "markdown",
   "metadata": {},
   "source": [
    "# Network1 #"
   ]
  },
  {
   "cell_type": "markdown",
   "metadata": {},
   "source": [
    "## Preliminaries ##"
   ]
  },
  {
   "cell_type": "code",
   "execution_count": 1,
   "metadata": {},
   "outputs": [
    {
     "name": "stdout",
     "output_type": "stream",
     "text": [
      "Requirement already satisfied: mnist in c:\\users\\cousi\\documents\\github\\datasets\\mnist (0.0)\n",
      "Note: you may need to restart the kernel to use updated packages.\n"
     ]
    }
   ],
   "source": [
    "%pip install mnist\n",
    "\n",
    "import numpy as np\n",
    "import gzip\n",
    "import _pickle\n",
    "import src.nndl.network\n",
    "\n",
    "with gzip.open('./data/mnist.pkl.gz', 'rb') as fp:\n",
    "    training_inputs, training_results, testing_inputs, testing_results = \\\n",
    "        _pickle.load(fp)\n",
    "\n",
    "training_data = [(ti, tr)\n",
    "                 for ti, tr in zip(training_inputs, training_results)]\n",
    "\n",
    "testing_data = [(ti, tr)\n",
    "                for ti, tr in zip(testing_inputs, testing_results)]"
   ]
  },
  {
   "cell_type": "markdown",
   "metadata": {},
   "source": [
    "## Network 1 `[784, 30, 10]` with &eta; = 3.0 ## "
   ]
  },
  {
   "cell_type": "code",
   "execution_count": 3,
   "metadata": {
    "scrolled": true
   },
   "outputs": [
    {
     "name": "stdout",
     "output_type": "stream",
     "text": [
      "Epoch 0: 1975 / 10000\n",
      "Epoch 1: 2077 / 10000\n",
      "Epoch 2: 1093 / 10000\n",
      "Epoch 3: 1090 / 10000\n",
      "Epoch 4: 1098 / 10000\n",
      "Epoch 5: 1100 / 10000\n",
      "Epoch 6: 1051 / 10000\n",
      "Epoch 7: 1225 / 10000\n",
      "Epoch 8: 1225 / 10000\n",
      "Epoch 9: 1098 / 10000\n",
      "Epoch 10: 1101 / 10000\n",
      "Epoch 11: 1101 / 10000\n",
      "Epoch 12: 1117 / 10000\n",
      "Epoch 13: 974 / 10000\n",
      "Epoch 14: 974 / 10000\n",
      "Epoch 15: 1117 / 10000\n",
      "Epoch 16: 1064 / 10000\n",
      "Epoch 17: 1098 / 10000\n",
      "Epoch 18: 1225 / 10000\n",
      "Epoch 19: 1101 / 10000\n",
      "Epoch 20: 1065 / 10000\n",
      "Epoch 21: 1017 / 10000\n",
      "Epoch 22: 1017 / 10000\n",
      "Epoch 23: 1117 / 10000\n",
      "Epoch 24: 1117 / 10000\n",
      "Epoch 25: 1056 / 10000\n",
      "Epoch 26: 975 / 10000\n",
      "Epoch 27: 1065 / 10000\n",
      "Epoch 28: 1068 / 10000\n",
      "Epoch 29: 1117 / 10000\n"
     ]
    }
   ],
   "source": [
    "net = network.Network([784, 30, 10])\n",
    "net.stochastic_gradient_descent(training_data, 30, 10, 3.0,\n",
    "                                test_data=testing_data)"
   ]
  },
  {
   "cell_type": "markdown",
   "metadata": {},
   "source": [
    "## Network 2 `[784, 100, 10]` with &eta; = 3.0 ##"
   ]
  },
  {
   "cell_type": "code",
   "execution_count": 4,
   "metadata": {
    "scrolled": true
   },
   "outputs": [
    {
     "name": "stdout",
     "output_type": "stream",
     "text": [
      "Epoch 0: 689 / 10000\n",
      "Epoch 1: 840 / 10000\n",
      "Epoch 2: 976 / 10000\n",
      "Epoch 3: 1533 / 10000\n",
      "Epoch 4: 1495 / 10000\n",
      "Epoch 5: 1784 / 10000\n",
      "Epoch 6: 1752 / 10000\n",
      "Epoch 7: 961 / 10000\n",
      "Epoch 8: 968 / 10000\n",
      "Epoch 9: 998 / 10000\n",
      "Epoch 10: 1030 / 10000\n",
      "Epoch 11: 1053 / 10000\n",
      "Epoch 12: 1067 / 10000\n",
      "Epoch 13: 1129 / 10000\n",
      "Epoch 14: 1135 / 10000\n",
      "Epoch 15: 1581 / 10000\n",
      "Epoch 16: 1454 / 10000\n",
      "Epoch 17: 1777 / 10000\n",
      "Epoch 18: 1471 / 10000\n",
      "Epoch 19: 1267 / 10000\n",
      "Epoch 20: 1256 / 10000\n",
      "Epoch 21: 1612 / 10000\n",
      "Epoch 22: 927 / 10000\n",
      "Epoch 23: 1391 / 10000\n",
      "Epoch 24: 878 / 10000\n",
      "Epoch 25: 1503 / 10000\n",
      "Epoch 26: 1354 / 10000\n",
      "Epoch 27: 1241 / 10000\n",
      "Epoch 28: 660 / 10000\n",
      "Epoch 29: 827 / 10000\n"
     ]
    }
   ],
   "source": [
    "net2 = network.Network([784, 100, 10])\n",
    "net2.stochastic_gradient_descent(training_data, 30, 10, 3.0,\n",
    "                                 test_data=testing_data)"
   ]
  },
  {
   "cell_type": "markdown",
   "metadata": {},
   "source": [
    "## Network 3 `[784, 100, 10]` with &eta; = 0.1 ##"
   ]
  },
  {
   "cell_type": "code",
   "execution_count": 5,
   "metadata": {
    "scrolled": true
   },
   "outputs": [
    {
     "name": "stdout",
     "output_type": "stream",
     "text": [
      "Epoch 0: 1166 / 10000\n",
      "Epoch 1: 1261 / 10000\n",
      "Epoch 2: 1330 / 10000\n",
      "Epoch 3: 1402 / 10000\n",
      "Epoch 4: 1427 / 10000\n",
      "Epoch 5: 1473 / 10000\n",
      "Epoch 6: 1522 / 10000\n",
      "Epoch 7: 1555 / 10000\n",
      "Epoch 8: 1597 / 10000\n",
      "Epoch 9: 1623 / 10000\n",
      "Epoch 10: 1644 / 10000\n",
      "Epoch 11: 1679 / 10000\n",
      "Epoch 12: 1698 / 10000\n",
      "Epoch 13: 1711 / 10000\n",
      "Epoch 14: 1721 / 10000\n",
      "Epoch 15: 1758 / 10000\n",
      "Epoch 16: 1787 / 10000\n",
      "Epoch 17: 1804 / 10000\n",
      "Epoch 18: 1835 / 10000\n",
      "Epoch 19: 1861 / 10000\n",
      "Epoch 20: 1894 / 10000\n",
      "Epoch 21: 1908 / 10000\n",
      "Epoch 22: 1913 / 10000\n",
      "Epoch 23: 1927 / 10000\n",
      "Epoch 24: 1956 / 10000\n",
      "Epoch 25: 1969 / 10000\n",
      "Epoch 26: 1992 / 10000\n",
      "Epoch 27: 2012 / 10000\n",
      "Epoch 28: 2028 / 10000\n",
      "Epoch 29: 2034 / 10000\n"
     ]
    }
   ],
   "source": [
    "net3 = network.Network([784, 100, 10])\n",
    "net3.stochastic_gradient_descent(training_data, 30, 10, 0.1,\n",
    "                                 test_data=testing_data)"
   ]
  },
  {
   "cell_type": "markdown",
   "metadata": {},
   "source": [
    "## Network 4 `[784, 30, 10]` with &eta; = 0.1 ##"
   ]
  },
  {
   "cell_type": "code",
   "execution_count": 7,
   "metadata": {
    "scrolled": true
   },
   "outputs": [
    {
     "name": "stdout",
     "output_type": "stream",
     "text": [
      "Epoch 0: 3312 / 10000\n",
      "Epoch 1: 5065 / 10000\n",
      "Epoch 2: 5375 / 10000\n",
      "Epoch 3: 5740 / 10000\n",
      "Epoch 4: 5816 / 10000\n",
      "Epoch 5: 6003 / 10000\n",
      "Epoch 6: 6176 / 10000\n",
      "Epoch 7: 6294 / 10000\n",
      "Epoch 8: 6354 / 10000\n",
      "Epoch 9: 6282 / 10000\n",
      "Epoch 10: 6377 / 10000\n",
      "Epoch 11: 6376 / 10000\n",
      "Epoch 12: 6473 / 10000\n",
      "Epoch 13: 6399 / 10000\n",
      "Epoch 14: 6752 / 10000\n",
      "Epoch 15: 6734 / 10000\n",
      "Epoch 16: 6734 / 10000\n",
      "Epoch 17: 7186 / 10000\n",
      "Epoch 18: 7338 / 10000\n",
      "Epoch 19: 7557 / 10000\n",
      "Epoch 20: 7512 / 10000\n",
      "Epoch 21: 7461 / 10000\n",
      "Epoch 22: 7537 / 10000\n",
      "Epoch 23: 7560 / 10000\n",
      "Epoch 24: 7592 / 10000\n",
      "Epoch 25: 7530 / 10000\n",
      "Epoch 26: 7415 / 10000\n",
      "Epoch 27: 7584 / 10000\n",
      "Epoch 28: 7681 / 10000\n",
      "Epoch 29: 7762 / 10000\n"
     ]
    }
   ],
   "source": [
    "net4 = network.Network([784, 30, 10])\n",
    "net4.stochastic_gradient_descent(training_data, 30, 10, 0.1,\n",
    "                                 test_data=testing_data)"
   ]
  },
  {
   "cell_type": "code",
   "execution_count": null,
   "metadata": {},
   "outputs": [],
   "source": []
  }
 ],
 "metadata": {
  "file_extension": ".py",
  "kernelspec": {
   "display_name": "Python 3",
   "language": "python",
   "name": "python3"
  },
  "language_info": {
   "codemirror_mode": {
    "name": "ipython",
    "version": 3
   },
   "file_extension": ".py",
   "mimetype": "text/x-python",
   "name": "python",
   "nbconvert_exporter": "python",
   "pygments_lexer": "ipython3",
   "version": "3.7.3"
  },
  "mimetype": "text/x-python",
  "name": "python",
  "npconvert_exporter": "python",
  "pygments_lexer": "ipython3",
  "version": 3
 },
 "nbformat": 4,
 "nbformat_minor": 2
}
